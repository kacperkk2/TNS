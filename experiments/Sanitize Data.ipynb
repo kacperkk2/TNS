{
 "cells": [
  {
   "source": [
    "## Extract sentences from a book"
   ],
   "cell_type": "markdown",
   "metadata": {}
  },
  {
   "cell_type": "code",
   "execution_count": 156,
   "metadata": {},
   "outputs": [],
   "source": [
    "import re\n",
    "SHERLOCK = 'sher'\n",
    "METAMORPHOSIS = 'meta'\n",
    "PRIDE = 'prid'\n",
    "chosen_book = SHERLOCK\n",
    "book_files = {\n",
    "    SHERLOCK: 'words_data/sherlock/the_adventures_of_sherlock_holmes-arthur_conan_doyle.txt',\n",
    "    PRIDE: 'words_data/pride_and_prejudice/pride_and_prejudice-jane_austen.txt'\n",
    "}\n",
    "sentences = []\n",
    "sentence_regex = re.compile(r'([A-Z][^\\.!?]*[\\.!?])', re.M)\n",
    "with open(book_files[chosen_book], 'r') as bookfile:\n",
    "    whole_book = bookfile.read()\n",
    "    sentences = re.findall(sentence_regex, whole_book)"
   ]
  },
  {
   "cell_type": "code",
   "execution_count": 157,
   "metadata": {},
   "outputs": [
    {
     "output_type": "execute_result",
     "data": {
      "text/plain": [
       "7141"
      ]
     },
     "metadata": {},
     "execution_count": 157
    }
   ],
   "source": [
    "len(sentences)"
   ]
  },
  {
   "cell_type": "code",
   "execution_count": 158,
   "metadata": {},
   "outputs": [
    {
     "output_type": "execute_result",
     "data": {
      "text/plain": [
       "['I.',\n",
       " 'A SCANDAL IN BOHEMIA\\n\\n\\nI.',\n",
       " 'To Sherlock Holmes she is always _the_ woman.',\n",
       " 'I have seldom heard him\\nmention her under any other name.',\n",
       " 'In his eyes she eclipses and\\npredominates the whole of her sex.',\n",
       " 'It was not that he felt any emotion\\nakin to love for Irene Adler.',\n",
       " 'All emotions, and that one particularly,\\nwere abhorrent to his cold, precise but admirably balanced mind.',\n",
       " 'He\\nwas, I take it, the most perfect reasoning and observing machine that\\nthe world has seen, but as a lover he would have placed himself in a\\nfalse position.',\n",
       " 'He never spoke of the softer passions, save with a gibe\\nand a sneer.',\n",
       " 'They were admirable things for the observer—excellent for\\ndrawing the veil from men’s motives and actions.']"
      ]
     },
     "metadata": {},
     "execution_count": 158
    }
   ],
   "source": [
    "sentences[0:10]"
   ]
  },
  {
   "cell_type": "code",
   "execution_count": 159,
   "metadata": {},
   "outputs": [
    {
     "output_type": "execute_result",
     "data": {
      "text/plain": [
       "['A SCANDAL IN BOHEMIA\\n\\n\\nI.',\n",
       " 'To Sherlock Holmes she is always _the_ woman.',\n",
       " 'I have seldom heard him\\nmention her under any other name.',\n",
       " 'In his eyes she eclipses and\\npredominates the whole of her sex.',\n",
       " 'It was not that he felt any emotion\\nakin to love for Irene Adler.',\n",
       " 'All emotions, and that one particularly,\\nwere abhorrent to his cold, precise but admirably balanced mind.',\n",
       " 'He\\nwas, I take it, the most perfect reasoning and observing machine that\\nthe world has seen, but as a lover he would have placed himself in a\\nfalse position.',\n",
       " 'He never spoke of the softer passions, save with a gibe\\nand a sneer.',\n",
       " 'They were admirable things for the observer—excellent for\\ndrawing the veil from men’s motives and actions.',\n",
       " 'But for the trained\\nreasoner to admit such intrusions into his own delicate and finely\\nadjusted temperament was to introduce a distracting factor which might\\nthrow a doubt upon all his mental results.']"
      ]
     },
     "metadata": {},
     "execution_count": 159
    }
   ],
   "source": [
    "starting_sentence = {\n",
    "    SHERLOCK: 0,\n",
    "    METAMORPHOSIS: 8,\n",
    "    PRIDE: 0\n",
    "}\n",
    "messages = []\n",
    "for sentence in sentences[starting_sentence[chosen_book]:]:\n",
    "    if len(sentence.split(' ')) >= 2:\n",
    "        messages.append(sentence)\n",
    "messages[0:10]"
   ]
  },
  {
   "cell_type": "code",
   "execution_count": 160,
   "metadata": {},
   "outputs": [
    {
     "output_type": "execute_result",
     "data": {
      "text/plain": [
       "6757"
      ]
     },
     "metadata": {},
     "execution_count": 160
    }
   ],
   "source": [
    "len(messages)"
   ]
  },
  {
   "cell_type": "markdown",
   "metadata": {},
   "source": [
    "## Sanitize messages"
   ]
  },
  {
   "cell_type": "code",
   "execution_count": 161,
   "metadata": {},
   "outputs": [
    {
     "output_type": "stream",
     "name": "stderr",
     "text": [
      "[nltk_data] Downloading package punkt to /Users/piotrm/nltk_data...\n[nltk_data]   Package punkt is already up-to-date!\n"
     ]
    },
    {
     "output_type": "execute_result",
     "data": {
      "text/plain": [
       "True"
      ]
     },
     "metadata": {},
     "execution_count": 161
    }
   ],
   "source": [
    "import nltk\n",
    "nltk.download('punkt')"
   ]
  },
  {
   "cell_type": "code",
   "execution_count": 162,
   "metadata": {},
   "outputs": [
    {
     "output_type": "execute_result",
     "data": {
      "text/plain": [
       "[['A', 'SCANDAL', 'IN', 'BOHEMIA', 'I', '.'],\n",
       " ['To', 'Sherlock', 'Holmes', 'she', 'is', 'always', '_the_', 'woman', '.']]"
      ]
     },
     "metadata": {},
     "execution_count": 162
    }
   ],
   "source": [
    "# Split into tokens (words+punctuation)\n",
    "from nltk.tokenize import word_tokenize\n",
    "tokens = [word_tokenize(row) for row in messages]\n",
    "tokens[:2]"
   ]
  },
  {
   "cell_type": "code",
   "execution_count": 163,
   "metadata": {},
   "outputs": [
    {
     "output_type": "execute_result",
     "data": {
      "text/plain": [
       "[['A', 'SCANDAL', 'IN', 'BOHEMIA', 'I', ''],\n",
       " ['To', 'Sherlock', 'Holmes', 'she', 'is', 'always', 'the', 'woman', '']]"
      ]
     },
     "metadata": {},
     "execution_count": 163
    }
   ],
   "source": [
    "# Replace puntuation with empty string\n",
    "import string\n",
    "table = str.maketrans('','',string.punctuation)\n",
    "words = [[word.translate(table) for word in line] for line in tokens]\n",
    "words[:2]"
   ]
  },
  {
   "cell_type": "code",
   "execution_count": 164,
   "metadata": {},
   "outputs": [
    {
     "output_type": "execute_result",
     "data": {
      "text/plain": [
       "[['a', 'scandal', 'in', 'bohemia', 'i'],\n",
       " ['to', 'sherlock', 'holmes', 'she', 'is', 'always', 'the', 'woman']]"
      ]
     },
     "metadata": {},
     "execution_count": 164
    }
   ],
   "source": [
    "# Remove non-alphanumeric and normalize case\n",
    "words = [[word.lower() for word in line if word.isalnum()] for line in words]\n",
    "words[:2]"
   ]
  },
  {
   "cell_type": "code",
   "execution_count": 165,
   "metadata": {},
   "outputs": [
    {
     "output_type": "stream",
     "name": "stderr",
     "text": [
      "[nltk_data] Downloading package stopwords to\n[nltk_data]     /Users/piotrm/nltk_data...\n[nltk_data]   Package stopwords is already up-to-date!\n"
     ]
    },
    {
     "output_type": "execute_result",
     "data": {
      "text/plain": [
       "True"
      ]
     },
     "metadata": {},
     "execution_count": 165
    }
   ],
   "source": [
    "nltk.download('stopwords')"
   ]
  },
  {
   "cell_type": "code",
   "execution_count": 166,
   "metadata": {},
   "outputs": [
    {
     "output_type": "execute_result",
     "data": {
      "text/plain": [
       "[['scandal', 'bohemia'], ['sherlock', 'holmes', 'always', 'woman']]"
      ]
     },
     "metadata": {},
     "execution_count": 166
    }
   ],
   "source": [
    "# Filter out stop words\n",
    "from nltk.corpus import stopwords\n",
    "stop_words = set(stopwords.words('english'))\n",
    "words = [[word for word in line if word not in stop_words] for line in words]\n",
    "words[:2]"
   ]
  },
  {
   "cell_type": "code",
   "execution_count": 167,
   "metadata": {},
   "outputs": [
    {
     "output_type": "execute_result",
     "data": {
      "text/plain": [
       "[['scandal', 'bohemia'], ['sherlock', 'holm', 'alway', 'woman']]"
      ]
     },
     "metadata": {},
     "execution_count": 167
    }
   ],
   "source": [
    "# Stem words (fishing, fisher -> fish)\n",
    "from nltk.stem.porter import PorterStemmer\n",
    "porter = PorterStemmer()\n",
    "words = [[porter.stem(word) for word in line] for line in words]\n",
    "words[:2]"
   ]
  },
  {
   "source": [
    "## Create most common words list"
   ],
   "cell_type": "markdown",
   "metadata": {}
  },
  {
   "cell_type": "code",
   "execution_count": 168,
   "metadata": {},
   "outputs": [],
   "source": [
    "most_common_cnt = 2000"
   ]
  },
  {
   "cell_type": "code",
   "execution_count": 169,
   "metadata": {},
   "outputs": [],
   "source": [
    "most_common_words_files = {\n",
    "    SHERLOCK: f'words_data/sherlock/most_common_words_{most_common_cnt}.csv',\n",
    "    PRIDE: f'words_data/pride_and_prejudice/most_common_words_{most_common_cnt}.csv'\n",
    "}"
   ]
  },
  {
   "cell_type": "code",
   "execution_count": 170,
   "metadata": {},
   "outputs": [],
   "source": [
    "word_occurences = {}\n",
    "for row in words:\n",
    "    for word in row:\n",
    "        if word_occurences.get(word) is None:\n",
    "            word_occurences[word] = 0\n",
    "        word_occurences[word] += 1"
   ]
  },
  {
   "cell_type": "code",
   "execution_count": 171,
   "metadata": {},
   "outputs": [
    {
     "output_type": "execute_result",
     "data": {
      "text/plain": [
       "5735"
      ]
     },
     "metadata": {},
     "execution_count": 171
    }
   ],
   "source": [
    "sorted_word_occurences = sorted(word_occurences.items(), key=lambda x: x[1], reverse=True)\n",
    "len(sorted_word_occurences)"
   ]
  },
  {
   "cell_type": "code",
   "execution_count": 172,
   "metadata": {},
   "outputs": [
    {
     "output_type": "execute_result",
     "data": {
      "text/plain": [
       "[('upon', 454),\n",
       " ('said', 438),\n",
       " ('holm', 420),\n",
       " ('one', 378),\n",
       " ('would', 327),\n",
       " ('man', 296),\n",
       " ('could', 286),\n",
       " ('mr', 270),\n",
       " ('littl', 268),\n",
       " ('see', 251)]"
      ]
     },
     "metadata": {},
     "execution_count": 172
    }
   ],
   "source": [
    "sorted_word_occurences[:10]"
   ]
  },
  {
   "cell_type": "code",
   "execution_count": 173,
   "metadata": {},
   "outputs": [],
   "source": [
    "import csv\n",
    "with open(most_common_words_files[chosen_book], mode='w') as dict_csv:\n",
    "    csvwriter = csv.writer(dict_csv)\n",
    "    csvwriter.writerows(sorted_word_occurences[:most_common_cnt])"
   ]
  },
  {
   "cell_type": "markdown",
   "metadata": {},
   "source": [
    "## Encode words to integers"
   ]
  },
  {
   "cell_type": "code",
   "execution_count": 174,
   "metadata": {},
   "outputs": [
    {
     "output_type": "execute_result",
     "data": {
      "text/plain": [
       "2000"
      ]
     },
     "metadata": {},
     "execution_count": 174
    }
   ],
   "source": [
    "import csv\n",
    "dictionary_arr = []\n",
    "dictionary_dict = {}\n",
    "with open(most_common_words_files[chosen_book], mode='r') as dict_csv:\n",
    "    reader = csv.reader(dict_csv)\n",
    "    for index, row in enumerate(reader):\n",
    "        dictionary_arr.append(row[0])\n",
    "        dictionary_dict[row[0]] = index\n",
    "len(dictionary_dict)"
   ]
  },
  {
   "cell_type": "code",
   "execution_count": 175,
   "metadata": {},
   "outputs": [
    {
     "output_type": "execute_result",
     "data": {
      "text/plain": [
       "[[737, 844], [59, 2, 135, 107]]"
      ]
     },
     "metadata": {},
     "execution_count": 175
    }
   ],
   "source": [
    "encoded_rows = []\n",
    "for line in words:\n",
    "    encoded_line = []\n",
    "    for word in line:\n",
    "        if word in dictionary_dict:\n",
    "            encoded_line.append(dictionary_dict[word])\n",
    "    encoded_rows.append(encoded_line)\n",
    "encoded_rows[:2]"
   ]
  },
  {
   "cell_type": "markdown",
   "metadata": {},
   "source": [
    "## Save encoded messages to CSV"
   ]
  },
  {
   "cell_type": "code",
   "execution_count": 176,
   "metadata": {},
   "outputs": [],
   "source": [
    "encoded_words_files = {\n",
    "    SHERLOCK: f'words_data/sherlock/encoded_words_{most_common_cnt}_common.csv',\n",
    "    PRIDE: f'words_data/pride_and_prejudice/encoded_words_{most_common_cnt}_common.csv'\n",
    "}\n",
    "minimum_sequence_length = 8"
   ]
  },
  {
   "cell_type": "code",
   "execution_count": 177,
   "metadata": {},
   "outputs": [],
   "source": [
    "with open(encoded_words_files[chosen_book], mode='w') as csvfile:\n",
    "    writer = csv.writer(csvfile)\n",
    "    for row in encoded_rows:\n",
    "        if len(row) >= minimum_sequence_length:\n",
    "            writer.writerow(row)"
   ]
  },
  {
   "cell_type": "code",
   "execution_count": null,
   "metadata": {},
   "outputs": [],
   "source": []
  }
 ],
 "metadata": {
  "kernelspec": {
   "name": "python373jvsc74a57bd0f7814697561763bd4171451a0ada8c993a838a68ba84b76d8d2f16fe72f83df2",
   "display_name": "Python 3.7.3 64-bit ('venv')"
  },
  "language_info": {
   "codemirror_mode": {
    "name": "ipython",
    "version": 3
   },
   "file_extension": ".py",
   "mimetype": "text/x-python",
   "name": "python",
   "nbconvert_exporter": "python",
   "pygments_lexer": "ipython3",
   "version": "3.7.3"
  },
  "metadata": {
   "interpreter": {
    "hash": "f7814697561763bd4171451a0ada8c993a838a68ba84b76d8d2f16fe72f83df2"
   }
  }
 },
 "nbformat": 4,
 "nbformat_minor": 4
}