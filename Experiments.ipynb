{
 "metadata": {
  "language_info": {
   "codemirror_mode": {
    "name": "ipython",
    "version": 3
   },
   "file_extension": ".py",
   "mimetype": "text/x-python",
   "name": "python",
   "nbconvert_exporter": "python",
   "pygments_lexer": "ipython3",
   "version": "3.7.3"
  },
  "orig_nbformat": 2,
  "kernelspec": {
   "name": "python373jvsc74a57bd09f19d2723d3518f25eda5a4b6595adeb2af7874d49ee5fd9c328181e4bd69f4c",
   "display_name": "Python 3.7.3 64-bit ('venv': venv)"
  },
  "metadata": {
   "interpreter": {
    "hash": "31f2aee4e71d21fbe5cf8b01ff0e069b9275f58929596ceb00d14d90e3e16cd6"
   }
  }
 },
 "nbformat": 4,
 "nbformat_minor": 2,
 "cells": [
  {
   "cell_type": "code",
   "execution_count": 72,
   "metadata": {},
   "outputs": [],
   "source": [
    "SHERLOCK = 'sher'\n",
    "METAMORPHOSIS = 'meta'\n",
    "PRIDE = 'prid'\n",
    "chosen_book = PRIDE\n",
    "\n",
    "words_count = {\n",
    "    SHERLOCK: 3378,\n",
    "    PRIDE: 2629\n",
    "}\n",
    "most_common_cnt = words_count[chosen_book]\n",
    "\n",
    "encoded_words_files = {\n",
    "    SHERLOCK: f'experiments/words_data/sherlock/encoded_words_{most_common_cnt}_common.csv',\n",
    "    PRIDE: f'experiments/words_data/pride_and_prejudice/encoded_words_{most_common_cnt}_common.csv'\n",
    "}"
   ]
  },
  {
   "source": [
    "## Read data from CSV"
   ],
   "cell_type": "markdown",
   "metadata": {}
  },
  {
   "cell_type": "code",
   "execution_count": 73,
   "metadata": {},
   "outputs": [
    {
     "output_type": "execute_result",
     "data": {
      "text/plain": [
       "[[[196],\n",
       "  [457],\n",
       "  [1210],\n",
       "  [370],\n",
       "  [740],\n",
       "  [49],\n",
       "  [675],\n",
       "  [28],\n",
       "  [213],\n",
       "  [8],\n",
       "  [117],\n",
       "  [288]],\n",
       " [[56],\n",
       "  [29],\n",
       "  [224],\n",
       "  [38],\n",
       "  [402],\n",
       "  [49],\n",
       "  [27],\n",
       "  [51],\n",
       "  [214],\n",
       "  [412],\n",
       "  [457],\n",
       "  [22],\n",
       "  [458],\n",
       "  [198],\n",
       "  [1782],\n",
       "  [44],\n",
       "  [164],\n",
       "  [313],\n",
       "  [1105],\n",
       "  [13],\n",
       "  [57]]]"
      ]
     },
     "metadata": {},
     "execution_count": 73
    }
   ],
   "source": [
    "import csv\n",
    "tns_data = []\n",
    "with open(encoded_words_files[chosen_book], mode='r') as csvfile:\n",
    "    reader = csv.reader(csvfile)\n",
    "    for row in reader:\n",
    "        tns_data.append([ [int(item)] for item in row ])\n",
    "tns_data[:2]\n"
   ]
  },
  {
   "source": [
    "## Run TNS algorithm"
   ],
   "cell_type": "markdown",
   "metadata": {}
  },
  {
   "cell_type": "code",
   "execution_count": 74,
   "metadata": {},
   "outputs": [],
   "source": [
    "from TNS import TNS, Data\n"
   ]
  },
  {
   "cell_type": "code",
   "execution_count": 75,
   "metadata": {
    "tags": []
   },
   "outputs": [
    {
     "output_type": "stream",
     "name": "stdout",
     "text": [
      "Using TNS+ETARM\n",
      "(<RBTree.RBTree object at 0x7f9bfc5f5b38>, 12.130455255508423, 17195008)\n"
     ]
    }
   ],
   "source": [
    "data = Data(tns_data)\n",
    "algorithm = TNS()\n",
    "rules = algorithm.run(data, k=50, min_conf=0.5, delta=2)\n",
    "print(rules)"
   ]
  },
  {
   "cell_type": "code",
   "execution_count": 76,
   "metadata": {},
   "outputs": [
    {
     "output_type": "stream",
     "name": "stdout",
     "text": [
      "Rules count: 50\n"
     ]
    },
    {
     "output_type": "execute_result",
     "data": {
      "text/plain": [
       "[<Rule.Rule at 0x7f9be57b14e0>,\n",
       " <Rule.Rule at 0x7f9be4d8c400>,\n",
       " <Rule.Rule at 0x7f9be717a6d8>,\n",
       " <Rule.Rule at 0x7f9be5ede860>,\n",
       " <Rule.Rule at 0x7f9be4ca7588>,\n",
       " <Rule.Rule at 0x7f9be4d43710>,\n",
       " <Rule.Rule at 0x7f9be4d1f588>,\n",
       " <Rule.Rule at 0x7f9be6353eb8>,\n",
       " <Rule.Rule at 0x7f9be4c0c5c0>,\n",
       " <Rule.Rule at 0x7f9be4c56f98>,\n",
       " <Rule.Rule at 0x7f9be7488588>,\n",
       " <Rule.Rule at 0x7f9be4745668>,\n",
       " <Rule.Rule at 0x7f9be5bb1e10>,\n",
       " <Rule.Rule at 0x7f9be4d43a90>,\n",
       " <Rule.Rule at 0x7f9be56a7cc0>,\n",
       " <Rule.Rule at 0x7f9be447aa20>,\n",
       " <Rule.Rule at 0x7f9be4bf17b8>,\n",
       " <Rule.Rule at 0x7f9be63537b8>,\n",
       " <Rule.Rule at 0x7f9be4745438>,\n",
       " <Rule.Rule at 0x7f9be4bf1da0>,\n",
       " <Rule.Rule at 0x7f9be63534a8>,\n",
       " <Rule.Rule at 0x7f9be4bf14a8>,\n",
       " <Rule.Rule at 0x7f9be4cb3eb8>,\n",
       " <Rule.Rule at 0x7f9be4bf1860>,\n",
       " <Rule.Rule at 0x7f9be4cb3f98>,\n",
       " <Rule.Rule at 0x7f9be4cb3390>,\n",
       " <Rule.Rule at 0x7f9be4bfb828>,\n",
       " <Rule.Rule at 0x7f9be5508f98>,\n",
       " <Rule.Rule at 0x7f9be710b5f8>,\n",
       " <Rule.Rule at 0x7f9be4bf1e80>,\n",
       " <Rule.Rule at 0x7f9be7696198>,\n",
       " <Rule.Rule at 0x7f9c041100f0>,\n",
       " <Rule.Rule at 0x7f9be4bf1fd0>,\n",
       " <Rule.Rule at 0x7f9be78dcfd0>,\n",
       " <Rule.Rule at 0x7f9be4bf1630>,\n",
       " <Rule.Rule at 0x7f9be4bf10b8>,\n",
       " <Rule.Rule at 0x7f9be4745ac8>,\n",
       " <Rule.Rule at 0x7f9bfcbdaf28>,\n",
       " <Rule.Rule at 0x7f9be4cf2080>,\n",
       " <Rule.Rule at 0x7f9be4cb3c50>,\n",
       " <Rule.Rule at 0x7f9be4c3a860>,\n",
       " <Rule.Rule at 0x7f9be4ba1ef0>,\n",
       " <Rule.Rule at 0x7f9be4ba1c18>,\n",
       " <Rule.Rule at 0x7f9be4ba1be0>,\n",
       " <Rule.Rule at 0x7f9be47459b0>,\n",
       " <Rule.Rule at 0x7f9be4bf1e48>,\n",
       " <Rule.Rule at 0x7f9be4bf1cc0>,\n",
       " <Rule.Rule at 0x7f9be4d438d0>,\n",
       " <Rule.Rule at 0x7f9be6353cc0>,\n",
       " <Rule.Rule at 0x7f9be4cb3080>]"
      ]
     },
     "metadata": {},
     "execution_count": 76
    }
   ],
   "source": [
    "rules_list = []\n",
    "while True:\n",
    "    item = rules[0].pop_maximum()\n",
    "    if item:\n",
    "        rules_list.append(item)\n",
    "    else:\n",
    "        break\n",
    "print(\"Rules count:\", len(rules_list))\n",
    "rules_list"
   ]
  },
  {
   "source": [
    "## Read most common words"
   ],
   "cell_type": "markdown",
   "metadata": {}
  },
  {
   "cell_type": "code",
   "execution_count": 77,
   "metadata": {},
   "outputs": [],
   "source": [
    "most_common_words_files = {\n",
    "    SHERLOCK: f'experiments/words_data/sherlock/most_common_words_{most_common_cnt}.csv',\n",
    "    PRIDE: f'experiments/words_data/pride_and_prejudice/most_common_words_{most_common_cnt}.csv'\n",
    "}"
   ]
  },
  {
   "cell_type": "code",
   "execution_count": 78,
   "metadata": {},
   "outputs": [],
   "source": [
    "import csv\n",
    "dictionary_arr = []\n",
    "# dictionary_dict = {}\n",
    "with open(most_common_words_files[chosen_book], mode='r') as dict_csv:\n",
    "    reader = csv.reader(dict_csv)\n",
    "    for index, row in enumerate(reader):\n",
    "        dictionary_arr.append(row[0])\n",
    "        # dictionary_dict[row[0]] = index\n"
   ]
  },
  {
   "source": [
    "## Map rules"
   ],
   "cell_type": "markdown",
   "metadata": {}
  },
  {
   "cell_type": "code",
   "execution_count": 79,
   "metadata": {},
   "outputs": [],
   "source": [
    "rules_list_mapped = []\n",
    "for rule in rules_list:\n",
    "    ante = [ dictionary_arr[ind] for ind in rule.antecedents ]\n",
    "    cons = [ dictionary_arr[ind] for ind in rule.consequents ]\n",
    "    rules_list_mapped.append((ante, cons, rule.support, rule.confidence))"
   ]
  },
  {
   "cell_type": "code",
   "execution_count": 80,
   "metadata": {},
   "outputs": [
    {
     "output_type": "stream",
     "name": "stdout",
     "text": [
      "sir ==> william  sup= 41  conf= 0.6507936507936508\nde ==> bourgh  sup= 37  conf= 0.9736842105263158\ndare ==> say  sup= 30  conf= 0.6122448979591837\nchapter ==> elizabeth  sup= 28  conf= 0.56\nmiss, de ==> bourgh  sup= 20  conf= 0.9523809523809523\nthousand ==> pound  sup= 19  conf= 0.6129032258064516\nladi, de ==> bourgh  sup= 18  conf= 0.9473684210526315\ncatherin, de ==> bourgh  sup= 16  conf= 0.8888888888888888\nmiss, hurst ==> bingley  sup= 8  conf= 0.8\ngracechurch ==> street  sup= 7  conf= 1.0\ngeorg ==> wickham  sup= 7  conf= 0.875\ncollin, de ==> bourgh  sup= 6  conf= 1.0\ndarci, colonel ==> fitzwilliam  sup= 6  conf= 0.6666666666666666\none, dare ==> say  sup= 6  conf= 0.6666666666666666\ninsist ==> upon  sup= 6  conf= 0.6\nelder ==> sister  sup= 6  conf= 0.5\nmiss, ladi, de ==> bourgh  sup= 5  conf= 0.8333333333333334\nelizabeth, colonel ==> fitzwilliam  sup= 5  conf= 0.8333333333333334\nmay, depend ==> upon  sup= 5  conf= 0.8333333333333334\nelizabeth, de ==> bourgh  sup= 5  conf= 0.7142857142857143\none, thousand ==> pound  sup= 5  conf= 0.7142857142857143\nelizabeth, sir ==> william  sup= 5  conf= 0.625\nnext, chapter ==> morn  sup= 5  conf= 0.625\nmorn, chapter ==> mr  sup= 5  conf= 0.5555555555555556\nthousand, ten ==> pound  sup= 5  conf= 0.5555555555555556\nday, chapter ==> mr  sup= 5  conf= 0.5\nsaid, dear ==> mr  sup= 5  conf= 0.5\nlift ==> eye  sup= 5  conf= 1.0\ndrive ==> away  sup= 5  conf= 0.625\nmiss, collin, de ==> bourgh  sup= 4  conf= 1.0\nelizabeth, next, chapter ==> morn  sup= 4  conf= 0.6666666666666666\nelizabeth, morn, chapter ==> mr  sup= 4  conf= 0.5714285714285714\ncould, de ==> bourgh  sup= 4  conf= 1.0\nsir, de ==> bourgh  sup= 4  conf= 1.0\nwish, de ==> bourgh  sup= 4  conf= 0.8\nwickham, thousand ==> pound  sup= 4  conf= 0.8\neven, sir ==> william  sup= 4  conf= 0.8\ncousin, de ==> bourgh  sup= 4  conf= 0.8\nbennet, hope ==> might  sup= 4  conf= 0.5714285714285714\nday, last ==> mr  sup= 4  conf= 0.5714285714285714\njane, chapter ==> mr  sup= 4  conf= 0.5714285714285714\nladi, cousin ==> catherin  sup= 4  conf= 0.5714285714285714\nladi, speak ==> catherin  sup= 4  conf= 0.5714285714285714\nladi, hear ==> catherin  sup= 4  conf= 0.5714285714285714\none, young ==> ladi  sup= 4  conf= 0.5\nnext, chapter ==> mr  sup= 4  conf= 0.5\nsay, wish ==> might  sup= 4  conf= 0.5\nbingley, pleasur ==> see  sup= 4  conf= 0.5\nnext, chapter ==> day  sup= 4  conf= 0.5\nsister, arriv ==> elizabeth  sup= 4  conf= 0.5\n"
     ]
    }
   ],
   "source": [
    "for rule in rules_list_mapped:\n",
    "    print(f\"{', '.join(rule[0])} ==> {', '.join(rule[1])}  sup= {rule[2]}  conf= {rule[3]}\")"
   ]
  },
  {
   "cell_type": "code",
   "execution_count": 81,
   "metadata": {},
   "outputs": [],
   "source": [
    "rules_files = {\n",
    "    SHERLOCK: f'experiments/words_data/sherlock/rules_{most_common_cnt}_common_words.csv',\n",
    "    PRIDE: f'experiments/words_data/pride_and_prejudice/rules_{most_common_cnt}_common_words.csv'\n",
    "}"
   ]
  },
  {
   "cell_type": "code",
   "execution_count": 82,
   "metadata": {},
   "outputs": [],
   "source": [
    "with open(rules_files[chosen_book], mode='w') as csvfile:\n",
    "    csvwriter = csv.writer(csvfile)\n",
    "    csvwriter.writerows(rules_list_mapped)\n"
   ]
  },
  {
   "cell_type": "code",
   "execution_count": null,
   "metadata": {},
   "outputs": [],
   "source": []
  }
 ]
}